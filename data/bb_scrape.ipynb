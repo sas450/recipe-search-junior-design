{
 "nbformat": 4,
 "nbformat_minor": 2,
 "metadata": {
  "language_info": {
   "name": "python",
   "codemirror_mode": {
    "name": "ipython",
    "version": 3
   },
   "version": "3.7.3-final"
  },
  "orig_nbformat": 2,
  "file_extension": ".py",
  "mimetype": "text/x-python",
  "name": "python",
  "npconvert_exporter": "python",
  "pygments_lexer": "ipython3",
  "version": 3,
  "kernelspec": {
   "name": "python37364bit9b0066f1f42f434ca26bdf6ad9c354e4",
   "display_name": "Python 3.7.3 64-bit"
  }
 },
 "cells": [
  {
   "cell_type": "code",
   "execution_count": 36,
   "metadata": {},
   "outputs": [],
   "source": [
    "from bs4 import BeautifulSoup\n",
    "import requests\n",
    "import csv"
   ]
  },
  {
   "cell_type": "code",
   "execution_count": 37,
   "metadata": {},
   "outputs": [],
   "source": [
    "def scrape_title_url():\n",
    "    recipe_titles_list = []\n",
    "    recipe_url_list = []\n",
    "    img_urls_list = []\n",
    "    for i in range(len(item_on_page)):\n",
    "        item = item_on_page[i]\n",
    "\n",
    "        each_title = item.find('h4').get_text()\n",
    "        each_url = item.find('a')['href']\n",
    "        each_img = item.find('img')['data-lazy-src']\n",
    "\n",
    "        recipe_titles_list.append(each_title)\n",
    "        recipe_url_list.append(each_url)\n",
    "        img_urls_list.append(each_img)\n",
    "\n",
    "    return recipe_titles_list,recipe_url_list, img_urls_list"
   ]
  },
  {
   "cell_type": "code",
   "execution_count": 38,
   "metadata": {},
   "outputs": [],
   "source": [
    "def scrape_ingredients(link):\n",
    "    #html scraping\n",
    "    one = requests.get(link).text\n",
    "    one_soup = BeautifulSoup(one, 'lxml')\n",
    "    recipe_ingredients = []\n",
    "    #add try and catch here \n",
    "    try:\n",
    "        #-------------------------------------------------------------------------------------\n",
    "        #  TODO:    \n",
    "        #       https://www.budgetbytes.com/brown-sugar-bacon-breakfast-sandwiches-chipotle-mayo/\n",
    "        #       ingredient list --> bacon \tbrown sugar \n",
    "        #       multiple div classes with wprm-recipe-ingredient-group\n",
    "\n",
    "        #       SOLN1 : need to change .find to .find_all and then loop over all elements?\n",
    "\n",
    "        ingredients_container = one_soup.find(class_ = \"wprm-recipe-ingredient-group\")\n",
    "\n",
    "        #-------------------------------------------------------------------------------------\n",
    "\n",
    "\n",
    "        ingredients_list = ingredients_container.find_all(class_ = \"wprm-recipe-ingredient-name\")\n",
    "\n",
    "        #add elements to a list\n",
    "        for i in range(len(ingredients_list)):\n",
    "            recipe_ingredients.append(ingredients_list[i].get_text())\n",
    "    finally:\n",
    "        return recipe_ingredients\n"
   ]
  },
  {
   "cell_type": "code",
   "execution_count": 39,
   "metadata": {},
   "outputs": [],
   "source": [
    "\n",
    "for i in range(1,23):\n",
    "    current_url = ('https://www.budgetbytes.com/category/recipes/page/%s/' % i)\n",
    "    source = requests.get(current_url).text\n",
    "    soup = BeautifulSoup(source, 'lxml')\n",
    "\n",
    "    item_on_page = soup.find_all(class_ = \"archive-post\")\n",
    "    titles, links, images = scrape_title_url()\n",
    "\n",
    "    all_ingredients = []\n",
    "    for each_link in links:\n",
    "        all_ingredients.append(scrape_ingredients(each_link))\n",
    "\n",
    "    with open('bb.csv', 'a', newline='') as myfile:\n",
    "        wr = csv.writer(myfile, quoting=csv.QUOTE_ALL)\n",
    "        for i in range(len(all_ingredients)):\n",
    "            wr.writerow([titles[i]] + [links[i]] + [images[i]] + all_ingredients[i])\n",
    "\n"
   ]
  },
  {
   "cell_type": "code",
   "execution_count": 30,
   "metadata": {},
   "outputs": [
    {
     "data": {
      "text/plain": "'https://www.budgetbytes.com/wp-content/uploads/2019/10/Balsamic-Roasted-Vegetables-close-347x260.jpg'"
     },
     "execution_count": 30,
     "metadata": {},
     "output_type": "execute_result"
    }
   ],
   "source": [
    "print(item_)"
   ]
  },
  {
   "cell_type": "code",
   "execution_count": null,
   "metadata": {},
   "outputs": [],
   "source": []
  }
 ]
}