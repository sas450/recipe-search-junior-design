{
 "nbformat": 4,
 "nbformat_minor": 2,
 "metadata": {
  "language_info": {
   "name": "python",
   "codemirror_mode": {
    "name": "ipython",
    "version": 3
   },
   "version": "3.7.3-final"
  },
  "orig_nbformat": 2,
  "file_extension": ".py",
  "mimetype": "text/x-python",
  "name": "python",
  "npconvert_exporter": "python",
  "pygments_lexer": "ipython3",
  "version": 3,
  "kernelspec": {
   "name": "python37364bit9b0066f1f42f434ca26bdf6ad9c354e4",
   "display_name": "Python 3.7.3 64-bit"
  }
 },
 "cells": [
  {
   "cell_type": "code",
   "execution_count": 39,
   "metadata": {},
   "outputs": [],
   "source": [
    "import csv\n",
    "from contextlib import redirect_stdout\n",
    "\n",
    "with open('help.txt', 'w') as f:\n",
    "    with redirect_stdout(f):\n",
    "        print('it now prints to `help.text`')"
   ]
  },
  {
   "cell_type": "code",
   "execution_count": 48,
   "metadata": {},
   "outputs": [],
   "source": [
    "path = '/Users/samirsherlekar/Documents/Projects/recipe_search_engine/data/bb.csv'\n",
    "entries = []\n",
    "with open(path, newline='') as f:\n",
    "    reader = csv.reader(f)\n",
    "    for recipe in reader:\n",
    "        title = recipe[0]\n",
    "        url = recipe[1]\n",
    "        img = recipe[2]\n",
    "        for entry in recipe[3:]:\n",
    "            if(entry):\n",
    "                entries.append([title, url, img, entry])\n"
   ]
  },
  {
   "cell_type": "code",
   "execution_count": 50,
   "metadata": {},
   "outputs": [
    {
     "data": {
      "text/plain": "['Vegetable Fritters with Garlic Herb Sauce',\n 'https://www.budgetbytes.com/vegetable-fritters-with-garlic-herb-sauce/',\n 'https://www.budgetbytes.com/wp-content/uploads/2020/03/Vegetable-Fritters-H-347x260.jpg',\n 'dried oregano']"
     },
     "execution_count": 50,
     "metadata": {},
     "output_type": "execute_result"
    }
   ],
   "source": [
    "entries[2]"
   ]
  },
  {
   "cell_type": "code",
   "execution_count": 52,
   "metadata": {},
   "outputs": [],
   "source": [
    "    with open('bb_format.csv', 'w', newline='') as myfile:\n",
    "        wr = csv.writer(myfile, quoting=csv.QUOTE_ALL)\n",
    "        for i in range(len(entries)):\n",
    "            wr.writerow(entries[i])"
   ]
  },
  {
   "cell_type": "code",
   "execution_count": null,
   "metadata": {},
   "outputs": [],
   "source": []
  }
 ]
}