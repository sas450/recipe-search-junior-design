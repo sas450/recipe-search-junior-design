{
 "nbformat": 4,
 "nbformat_minor": 2,
 "metadata": {
  "language_info": {
   "name": "python",
   "codemirror_mode": {
    "name": "ipython",
    "version": 3
   }
  },
  "orig_nbformat": 2,
  "file_extension": ".py",
  "mimetype": "text/x-python",
  "name": "python",
  "npconvert_exporter": "python",
  "pygments_lexer": "ipython3",
  "version": 3
 },
 "cells": [
  {
   "cell_type": "code",
   "execution_count": 1,
   "metadata": {},
   "outputs": [],
   "source": [
    "import csv"
   ]
  },
  {
   "cell_type": "code",
   "execution_count": 35,
   "metadata": {},
   "outputs": [],
   "source": [
    "def unroll_recipe(recipe):\n",
    "    title = recipe[0]\n",
    "    url = recipe[1]\n",
    "    for entry in recipe[2:]:\n",
    "        if(entry):\n",
    "            print(title,url, entry, sep=',')"
   ]
  },
  {
   "cell_type": "code",
   "execution_count": 36,
   "metadata": {},
   "outputs": [
    {
     "name": "stdout",
     "output_type": "stream",
     "text": "Title,Url,Ingredients\nSpinach and Artichoke Wonderpot,https://www.budgetbytes.com/spinach-artichoke-wonderpot/,mushrooms\nSpinach and Artichoke Wonderpot,https://www.budgetbytes.com/spinach-artichoke-wonderpot/,artichoke hearts\nSpinach and Artichoke Wonderpot,https://www.budgetbytes.com/spinach-artichoke-wonderpot/,garlic\nSpinach and Artichoke Wonderpot,https://www.budgetbytes.com/spinach-artichoke-wonderpot/,small yellow onion\nSpinach and Artichoke Wonderpot,https://www.budgetbytes.com/spinach-artichoke-wonderpot/,vegetable broth\nSpinach and Artichoke Wonderpot,https://www.budgetbytes.com/spinach-artichoke-wonderpot/,olive oil\nSpinach and Artichoke Wonderpot,https://www.budgetbytes.com/spinach-artichoke-wonderpot/,fettuccine\nSpinach and Artichoke Wonderpot,https://www.budgetbytes.com/spinach-artichoke-wonderpot/,dried oregano\nSpinach and Artichoke Wonderpot,https://www.budgetbytes.com/spinach-artichoke-wonderpot/,dried thyme\nSpinach and Artichoke Wonderpot,https://www.budgetbytes.com/spinach-artichoke-wonderpot/,freshly cracked black pepper\nSpinach and Artichoke Wonderpot,https://www.budgetbytes.com/spinach-artichoke-wonderpot/,fresh or frozen spinach\nSpinach and Artichoke Wonderpot,https://www.budgetbytes.com/spinach-artichoke-wonderpot/,crushed red pepper (optional)\nSpinach and Artichoke Wonderpot,https://www.budgetbytes.com/spinach-artichoke-wonderpot/,feta (optional)\nLentils with Creamy Mushroom Gravy,https://www.budgetbytes.com/lentils-with-creamy-mushroom-gravy/,garlic\nLentils with Creamy Mushroom Gravy,https://www.budgetbytes.com/lentils-with-creamy-mushroom-gravy/,mushrooms\nLentils with Creamy Mushroom Gravy,https://www.budgetbytes.com/lentils-with-creamy-mushroom-gravy/,olive oil\nLentils with Creamy Mushroom Gravy,https://www.budgetbytes.com/lentils-with-creamy-mushroom-gravy/,brown lentils\nLentils with Creamy Mushroom Gravy,https://www.budgetbytes.com/lentils-with-creamy-mushroom-gravy/,dried thyme\nLentils with Creamy Mushroom Gravy,https://www.budgetbytes.com/lentils-with-creamy-mushroom-gravy/,rubbed sage\nLentils with Creamy Mushroom Gravy,https://www.budgetbytes.com/lentils-with-creamy-mushroom-gravy/,Freshly cracked black pepper\nLentils with Creamy Mushroom Gravy,https://www.budgetbytes.com/lentils-with-creamy-mushroom-gravy/,vegetable broth\nLentils with Creamy Mushroom Gravy,https://www.budgetbytes.com/lentils-with-creamy-mushroom-gravy/,coconut milk\nLentils with Creamy Mushroom Gravy,https://www.budgetbytes.com/lentils-with-creamy-mushroom-gravy/,salt to taste (about 1/2 tsp)\nOlive Oil Mashed Potatoes,https://www.budgetbytes.com/olive-oil-mashed-potatoes/,russet potatoes\nOlive Oil Mashed Potatoes,https://www.budgetbytes.com/olive-oil-mashed-potatoes/,salt (for cooking water)\nOlive Oil Mashed Potatoes,https://www.budgetbytes.com/olive-oil-mashed-potatoes/,garlic\nOlive Oil Mashed Potatoes,https://www.budgetbytes.com/olive-oil-mashed-potatoes/,extra virgin olive oil\nOlive Oil Mashed Potatoes,https://www.budgetbytes.com/olive-oil-mashed-potatoes/,dried rosemary\nOlive Oil Mashed Potatoes,https://www.budgetbytes.com/olive-oil-mashed-potatoes/,vegetable broth, warmed\nOlive Oil Mashed Potatoes,https://www.budgetbytes.com/olive-oil-mashed-potatoes/,freshly cracked black pepper\nOlive Oil Mashed Potatoes,https://www.budgetbytes.com/olive-oil-mashed-potatoes/,salt to taste (about 3/4 tsp)\nChili Cornbread Skillet,https://www.budgetbytes.com/chili-cornbread-skillet/,cooking oil\nChili Cornbread Skillet,https://www.budgetbytes.com/chili-cornbread-skillet/,garlic\nChili Cornbread Skillet,https://www.budgetbytes.com/chili-cornbread-skillet/,yellow onion\nChili Cornbread Skillet,https://www.budgetbytes.com/chili-cornbread-skillet/,jalapeño (optional)\nChili Cornbread Skillet,https://www.budgetbytes.com/chili-cornbread-skillet/,fire roasted diced tomatoes\nChili Cornbread Skillet,https://www.budgetbytes.com/chili-cornbread-skillet/,tomato paste\nChili Cornbread Skillet,https://www.budgetbytes.com/chili-cornbread-skillet/,beans (kidney, pinto, black)\nChili Cornbread Skillet,https://www.budgetbytes.com/chili-cornbread-skillet/,chili powder*\nChili Cornbread Skillet,https://www.budgetbytes.com/chili-cornbread-skillet/,cumin\nChili Cornbread Skillet,https://www.budgetbytes.com/chili-cornbread-skillet/,oregano\nChili Cornbread Skillet,https://www.budgetbytes.com/chili-cornbread-skillet/,salt\nChili Cornbread Skillet,https://www.budgetbytes.com/chili-cornbread-skillet/,water\nChili Cornbread Skillet,https://www.budgetbytes.com/chili-cornbread-skillet/,shredded cheddar\nCinnamon Pecan Sandies,https://www.budgetbytes.com/cinnamon-pecan-sandies/,butter, room temperature\nCinnamon Pecan Sandies,https://www.budgetbytes.com/cinnamon-pecan-sandies/,powdered sugar\nCinnamon Pecan Sandies,https://www.budgetbytes.com/cinnamon-pecan-sandies/,vanilla extract\nCinnamon Pecan Sandies,https://www.budgetbytes.com/cinnamon-pecan-sandies/,water\nCinnamon Pecan Sandies,https://www.budgetbytes.com/cinnamon-pecan-sandies/,salt\nCinnamon Pecan Sandies,https://www.budgetbytes.com/cinnamon-pecan-sandies/,flour\nCinnamon Pecan Sandies,https://www.budgetbytes.com/cinnamon-pecan-sandies/,pecans\nCinnamon Pecan Sandies,https://www.budgetbytes.com/cinnamon-pecan-sandies/,cinnamon\nVegetable Barley Soup,https://www.budgetbytes.com/vegetable-barley-soup/,yellow onion\nVegetable Barley Soup,https://www.budgetbytes.com/vegetable-barley-soup/,garlic\nVegetable Barley Soup,https://www.budgetbytes.com/vegetable-barley-soup/,olive oil\nVegetable Barley Soup,https://www.budgetbytes.com/vegetable-barley-soup/,carrots (about 4)\nVegetable Barley Soup,https://www.budgetbytes.com/vegetable-barley-soup/,diced tomatoes\nVegetable Barley Soup,https://www.budgetbytes.com/vegetable-barley-soup/,pearled barley\nVegetable Barley Soup,https://www.budgetbytes.com/vegetable-barley-soup/,dried basil\nVegetable Barley Soup,https://www.budgetbytes.com/vegetable-barley-soup/,dried oregano\nVegetable Barley Soup,https://www.budgetbytes.com/vegetable-barley-soup/,freshly cracked pepper\nVegetable Barley Soup,https://www.budgetbytes.com/vegetable-barley-soup/,vegetable broth\nVegetable Barley Soup,https://www.budgetbytes.com/vegetable-barley-soup/,russet potato (about 3/4 lb.)\nVegetable Barley Soup,https://www.budgetbytes.com/vegetable-barley-soup/,frozen green beans\nVegetable Barley Soup,https://www.budgetbytes.com/vegetable-barley-soup/,frozen corn\nVegetable Barley Soup,https://www.budgetbytes.com/vegetable-barley-soup/,frozen peas\nVegetable Barley Soup,https://www.budgetbytes.com/vegetable-barley-soup/,lemon juice\nVegetable Barley Soup,https://www.budgetbytes.com/vegetable-barley-soup/,fresh parsley (optional garnish)\nTeriyaki Meatball Bowls,https://www.budgetbytes.com/teriyaki-meatball-bowls/,ground pork \nTeriyaki Meatball Bowls,https://www.budgetbytes.com/teriyaki-meatball-bowls/,egg \nTeriyaki Meatball Bowls,https://www.budgetbytes.com/teriyaki-meatball-bowls/,breadcrumbs \nTeriyaki Meatball Bowls,https://www.budgetbytes.com/teriyaki-meatball-bowls/,garlic, minced\nTeriyaki Meatball Bowls,https://www.budgetbytes.com/teriyaki-meatball-bowls/,grated fresh ginger \nTeriyaki Meatball Bowls,https://www.budgetbytes.com/teriyaki-meatball-bowls/,soy sauce \nTeriyaki Meatball Bowls,https://www.budgetbytes.com/teriyaki-meatball-bowls/,green onions, sliced \nCurried Cabbage,https://www.budgetbytes.com/curried-cabbage/,garlic\nCurried Cabbage,https://www.budgetbytes.com/curried-cabbage/,grated fresh ginger\nCurried Cabbage,https://www.budgetbytes.com/curried-cabbage/,yellow onion\nCurried Cabbage,https://www.budgetbytes.com/curried-cabbage/,carrots (about 1/2 lb.)\nCurried Cabbage,https://www.budgetbytes.com/curried-cabbage/,cabbage (about 4 cups sliced)\nCurried Cabbage,https://www.budgetbytes.com/curried-cabbage/,olive oil\nCurried Cabbage,https://www.budgetbytes.com/curried-cabbage/,curry powder (mild or hot)\nCurried Cabbage,https://www.budgetbytes.com/curried-cabbage/,frozen peas\nCurried Cabbage,https://www.budgetbytes.com/curried-cabbage/,butter\nCurried Cabbage,https://www.budgetbytes.com/curried-cabbage/,salt and pepper to taste\nCurried Cabbage,https://www.budgetbytes.com/curried-cabbage/,cilantro\nGarlic Butter Baked Chicken Thighs,https://www.budgetbytes.com/garlic-butter-baked-chicken-thighs/,butter\nGarlic Butter Baked Chicken Thighs,https://www.budgetbytes.com/garlic-butter-baked-chicken-thighs/,garlic, minced\nGarlic Butter Baked Chicken Thighs,https://www.budgetbytes.com/garlic-butter-baked-chicken-thighs/,paprika\nGarlic Butter Baked Chicken Thighs,https://www.budgetbytes.com/garlic-butter-baked-chicken-thighs/,salt\nGarlic Butter Baked Chicken Thighs,https://www.budgetbytes.com/garlic-butter-baked-chicken-thighs/,freshly cracked pepper\nGarlic Butter Baked Chicken Thighs,https://www.budgetbytes.com/garlic-butter-baked-chicken-thighs/,fresh lemon\nGarlic Butter Baked Chicken Thighs,https://www.budgetbytes.com/garlic-butter-baked-chicken-thighs/,chopped fresh parsley (optional)\nGarlic Butter Baked Chicken Thighs,https://www.budgetbytes.com/garlic-butter-baked-chicken-thighs/,boneless, skinless chicken thighs (about 1.25 lbs.)\n"
    }
   ],
   "source": [
    "path = '/Users/samirsherlekar/Documents/Projects/recipe_search_engine/data/budgetbytes.csv'\n",
    "with open(path, newline='') as f:\n",
    "    reader = csv.reader(f)\n",
    "    for row in reader:\n",
    "        unroll_recipe(row)\n"
   ]
  },
  {
   "cell_type": "code",
   "execution_count": null,
   "metadata": {},
   "outputs": [],
   "source": []
  }
 ]
}