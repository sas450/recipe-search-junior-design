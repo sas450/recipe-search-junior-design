{
 "nbformat": 4,
 "nbformat_minor": 2,
 "metadata": {
  "language_info": {
   "name": "python",
   "codemirror_mode": {
    "name": "ipython",
    "version": 3
   }
  },
  "orig_nbformat": 2,
  "file_extension": ".py",
  "mimetype": "text/x-python",
  "name": "python",
  "npconvert_exporter": "python",
  "pygments_lexer": "ipython3",
  "version": 3
 },
 "cells": [
  {
   "cell_type": "markdown",
   "execution_count": null,
   "metadata": {},
   "outputs": [],
   "source": [
    "Main Program for the back end"
   ]
  },
  {
   "cell_type": "code",
   "execution_count": null,
   "metadata": {},
   "outputs": [],
   "source": [
    "#Input :  Ingredient\n",
    "#Approach : \n",
    "    #brute force linear search \n",
    "    #update with +1 for every hit \n",
    "    #sort by top 5\n",
    "\n",
    "    #time complexity O(n) * O(nlogn) * 5~7 ingredients == O(n^2log(n))\n",
    "    #space complexity O(n)\n",
    "#Output : top 5 closest matches "
   ]
  },
  {
   "cell_type": "code",
   "execution_count": null,
   "metadata": {},
   "outputs": [],
   "source": [
    "#Problem 1 : How to know the key \n",
    "    #Solution 1 : Build up a trie of all ingredients and use that for auto completion? (can a trie have 7 * 10000)\n",
    "\n",
    "#Problem 2 : Serious Eats Dataset hasn't been cleaned (still has measurements)\n",
    "\n",
    "#Problem 3 : Linear search scales very poorly, "
   ]
  }
 ]
}