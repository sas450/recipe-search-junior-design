{
 "nbformat": 4,
 "nbformat_minor": 2,
 "metadata": {
  "language_info": {
   "name": "python",
   "codemirror_mode": {
    "name": "ipython",
    "version": 3
   },
   "version": "3.7.3"
  },
  "orig_nbformat": 2,
  "file_extension": ".py",
  "mimetype": "text/x-python",
  "name": "python",
  "npconvert_exporter": "python",
  "pygments_lexer": "ipython3",
  "version": 3
 },
 "cells": [
  {
   "cell_type": "code",
   "metadata": {},
   "outputs": [],
   "source": [
    "from bs4 import BeautifulSoup\n",
    "import requests\n",
    "import csv"
   ]
  },
  {
   "cell_type": "markdown",
   "metadata": {},
   "outputs": [],
   "source": [
    "loop over all pages"
   ]
  },
  {
   "cell_type": "code",
   "execution_count": 284,
   "metadata": {},
   "outputs": [],
   "source": [
    "current_url = ('https://www.budgetbytes.com/category/recipes/page/%s/' % 1)\n",
    "source = requests.get(current_url).text\n",
    "soup = BeautifulSoup(source, 'lxml')"
   ]
  },
  {
   "cell_type": "code",
   "execution_count": 287,
   "metadata": {},
   "outputs": [],
   "source": [
    "item_on_page = soup.find_all(class_ = \"archive-post\")\n",
    "titles, links = scrape_title_url()"
   ]
  },
  {
   "cell_type": "code",
   "execution_count": 280,
   "metadata": {},
   "outputs": [],
   "source": [
    "all_ingredients = []\n",
    "for each_link in links:\n",
    "    all_ingredients.append(scrape_ingredients(each_link))"
   ]
  },
  {
   "cell_type": "markdown",
   "metadata": {},
   "outputs": [],
   "source": [
    "Write to a CSV"
   ]
  },
  {
   "cell_type": "code",
   "execution_count": 288,
   "metadata": {},
   "outputs": [],
   "source": [
    "with open('budgetbytes.csv', 'a', newline='') as myfile:\n",
    "     wr = csv.writer(myfile, quoting=csv.QUOTE_ALL)\n",
    "     for i in range(len(all_ingredients)):\n",
    "        wr.writerow([titles[i]] + [links[i]] + all_ingredients[i])"
   ]
  },
  {
   "cell_type": "code",
   "execution_count": 277,
   "metadata": {},
   "outputs": [],
   "source": [
    "#get the title and URL of every item on the page \n",
    "#shoulde return 48 items in each list \n",
    "def scrape_title_url():\n",
    "    recipe_titles_list = []\n",
    "    recipe_url_list = []\n",
    "    for i in range(len(item_on_page)):\n",
    "        item = item_on_page[i]\n",
    "\n",
    "        each_title = item.find('h4').get_text()\n",
    "        each_url = item.find('a')['href']\n",
    "\n",
    "        recipe_titles_list.append(each_title)\n",
    "        recipe_url_list.append(each_url)\n",
    "\n",
    "    return recipe_titles_list,recipe_url_list"
   ]
  },
  {
   "cell_type": "code",
   "execution_count": 276,
   "metadata": {},
   "outputs": [
    {
     "name": "stdout",
     "output_type": "stream",
     "text": "<div class=\"archive-post\">\n <a href=\"https://www.budgetbytes.com/spinach-artichoke-wonderpot/\" rel=\"bookmark\" title=\"Spinach and Artichoke Wonderpot\">\n  <img alt=\"A shallow bowl full of Spinach and Artichoke One Pot Pasta with spinach and feta on the sides.\" class=\"attachment-thumbnail size-thumbnail wp-post-image\" data-lazy-sizes=\"(max-width: 347px) 100vw, 347px\" data-lazy-src=\"https://www.budgetbytes.com/wp-content/uploads/2013/10/Spinach-and-Artichoke-Wonderpot-bowl-347x260.jpg\" data-lazy-srcset=\"https://www.budgetbytes.com/wp-content/uploads/2013/10/Spinach-and-Artichoke-Wonderpot-bowl-347x260.jpg 347w, https://www.budgetbytes.com/wp-content/uploads/2013/10/Spinach-and-Artichoke-Wonderpot-bowl-400x300.jpg 400w, https://www.budgetbytes.com/wp-content/uploads/2013/10/Spinach-and-Artichoke-Wonderpot-bowl-768x576.jpg 768w, https://www.budgetbytes.com/wp-content/uploads/2013/10/Spinach-and-Artichoke-Wonderpot-bowl-640x480.jpg 640w, https://www.budgetbytes.com/wp-content/uploads/2013/10/Spinach-and-Artichoke-Wonderpot-bowl-115x86.jpg 115w, https://www.budgetbytes.com/wp-content/uploads/2013/10/Spinach-and-Artichoke-Wonderpot-bowl-693x520.jpg 693w, https://www.budgetbytes.com/wp-content/uploads/2013/10/Spinach-and-Artichoke-Wonderpot-bowl-391x293.jpg 391w, https://www.budgetbytes.com/wp-content/uploads/2013/10/Spinach-and-Artichoke-Wonderpot-bowl-227x170.jpg 227w, https://www.budgetbytes.com/wp-content/uploads/2013/10/Spinach-and-Artichoke-Wonderpot-bowl-500x375.jpg 500w, https://www.budgetbytes.com/wp-content/uploads/2013/10/Spinach-and-Artichoke-Wonderpot-bowl.jpg 800w\" height=\"260\" src=\"data:image/gif;base64,R0lGODdhAQABAPAAAP///wAAACwAAAAAAQABAEACAkQBADs=\" title=\"\" width=\"347\"/>\n  <h4 class=\"title\">\n   Spinach and Artichoke Wonderpot\n  </h4>\n </a>\n <div class=\"post-meta\">\n  <span class=\"cost\">\n   $9.07 recipe / $1.62 serving\n  </span>\n </div>\n</div>\n\n"
    }
   ],
   "source": [
    "item = item_on_page[0]\n",
    "print(item.prettify())"
   ]
  },
  {
   "cell_type": "code",
   "metadata": {},
   "outputs": [],
   "source": [
    "def scrape_ingredients(link):\n",
    "    #html scraping\n",
    "    one = requests.get(link).text\n",
    "    one_soup = BeautifulSoup(one, 'lxml')\n",
    "    recipe_ingredients = []\n",
    "    #add try and catch here \n",
    "    try:\n",
    "        ingredients_container = one_soup.find(class_ = \"wprm-recipe-ingredient-group\")\n",
    "        ingredients_list = ingredients_container.find_all(class_ = \"wprm-recipe-ingredient-name\")\n",
    "\n",
    "        #add elements to a list\n",
    "        for i in range(len(ingredients_list)):\n",
    "            recipe_ingredients.append(ingredients_list[i].get_text())\n",
    "    finally:\n",
    "        return recipe_ingredients"
   ]
  }
 ]
}