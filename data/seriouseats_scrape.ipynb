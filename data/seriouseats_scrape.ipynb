{
 "nbformat": 4,
 "nbformat_minor": 2,
 "metadata": {
  "language_info": {
   "name": "python",
   "codemirror_mode": {
    "name": "ipython",
    "version": 3
   },
   "version": "3.7.3-final"
  },
  "orig_nbformat": 2,
  "file_extension": ".py",
  "mimetype": "text/x-python",
  "name": "python",
  "npconvert_exporter": "python",
  "pygments_lexer": "ipython3",
  "version": 3,
  "kernelspec": {
   "name": "python37364bit9b0066f1f42f434ca26bdf6ad9c354e4",
   "display_name": "Python 3.7.3 64-bit"
  }
 },
 "cells": [
  {
   "cell_type": "markdown",
   "execution_count": null,
   "metadata": {},
   "outputs": [],
   "source": [
    "get all ingredients from one recipe page i.e. : <br>\n",
    "input : https://www.seriouseats.com/recipes/2016/12/the-best-roast-potatoes-ever-recipe.html\\\n",
    "output : \\\n",
    "each_recipe_ingredients_list = [ \\\n",
    "    Kosher salt\n",
    "    1/2 teaspoon (4g) baking soda\n",
    "    4 pounds (about 2kg) russet or Yukon Gold potatoes, peeled and cut into quarters, sixths, or eighths, depending on         size (see note)\n",
    "    5 tablespoons (75ml) extra-virgin olive oil, duck fat, goose fat, or beef fat\n",
    "    Small handful picked rosemary leaves, finely chopped\n",
    "    3 medium cloves garlic, minced\n",
    "    Freshly ground black pepper\n",
    "    Small handful fresh parsley leaves, minced\n",
    "]"
   ]
  },
  {
   "cell_type": "code",
   "execution_count": null,
   "metadata": {},
   "outputs": [],
   "source": [
    "from bs4 import BeautifulSoup\n",
    "import requests\n",
    "import csv"
   ]
  },
  {
   "cell_type": "code",
   "execution_count": null,
   "metadata": {},
   "outputs": [],
   "source": [
    "#GET A LIST OF ALL URLS \n",
    "all_links = []\n",
    "\n",
    "for i in range(1, 357):\n",
    "    global_url = ('https://www.seriouseats.com/recipes/topics/ingredient?page=%s&sort=latest#recipes' % i)\n",
    "    source = requests.get(global_url).text\n",
    "    soup = BeautifulSoup(source, 'lxml')\n",
    "\n",
    "    block_wrapper = soup.find(class_ = \"block__wrapper\")\n",
    "\n",
    "    for each_recipe in block_wrapper.find_all(class_ = \"metadata\"):\n",
    "        all_links.append(each_recipe.find(class_ = \"module__link\")['href'])\n",
    "\n"
   ]
  },
  {
   "cell_type": "code",
   "execution_count": null,
   "metadata": {},
   "outputs": [],
   "source": [
    "with open('seriouseats_links.csv', 'w', newline='') as myfile:\n",
    "     wr = csv.writer(myfile, quoting=csv.QUOTE_ALL)\n",
    "     for link in all_links:\n",
    "        wr.writerow([link])"
   ]
  },
  {
   "cell_type": "code",
   "execution_count": null,
   "metadata": {},
   "outputs": [],
   "source": [
    "all_titles = []\n",
    "all_ingredients = []\n",
    "\n",
    "for i in range(len(all_links)):\n",
    "    print(i)\n",
    "    current_url = all_links[i]\n",
    "    source = requests.get(current_url).text\n",
    "    soup = BeautifulSoup(source, 'lxml')\n",
    "\n",
    "    #module 1\n",
    "    #TODO need try and cactch for the FIND \n",
    "    all_titles.append(soup.find(class_ = \"title recipe-title\").text)\n",
    "\n",
    "    #module 2\n",
    "    ingredients_list = []\n",
    "    #TODO need try and cactch for the FIND ALL \n",
    "    for each_item in soup.find_all(class_ = \"ingredient\"):\n",
    "        ingredients_list.append(each_item.text)\n",
    "    \n",
    "    all_ingredients.append(ingredients_list)"
   ]
  },
  {
   "cell_type": "code",
   "execution_count": null,
   "metadata": {},
   "outputs": [],
   "source": [
    "#Append Title, Url and Ingredients list to a CSV \n",
    "with open('seriouseats.csv', 'w', newline='') as myfile:\n",
    "     wr = csv.writer(myfile, quoting=csv.QUOTE_ALL)\n",
    "     for i in range(len(all_links)):\n",
    "        wr.writerow([all_titles[i]] + [all_links[i]] + all_ingredients[i])"
   ]
  },
  {
   "cell_type": "code",
   "execution_count": null,
   "metadata": {},
   "outputs": [],
   "source": [
    "all_links[len(all_links) - 1]"
   ]
  },
  {
   "cell_type": "code",
   "execution_count": null,
   "metadata": {},
   "outputs": [],
   "source": []
  }
 ]
}